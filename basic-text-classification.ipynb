{
 "cells": [
  {
   "attachments": {},
   "cell_type": "markdown",
   "metadata": {},
   "source": [
    "# StackOverflow Basic Text Classification"
   ]
  },
  {
   "attachments": {},
   "cell_type": "markdown",
   "metadata": {},
   "source": [
    "This notebook demonstrates text classifcation starting from plain text files store on disk. We'll train a multi-class classifier to peform sentiment analysis on StackOverflow dataset."
   ]
  },
  {
   "cell_type": "code",
   "execution_count": 1,
   "metadata": {},
   "outputs": [
    {
     "name": "stdout",
     "output_type": "stream",
     "text": [
      "2.10.1\n"
     ]
    }
   ],
   "source": [
    "import matplotlib.pyplot as plt\n",
    "import os\n",
    "import re\n",
    "import shutil\n",
    "import string\n",
    "import tensorflow as tf\n",
    "\n",
    "from tensorflow.keras import layers\n",
    "from tensorflow.keras import losses\n",
    "print(tf.__version__)"
   ]
  },
  {
   "attachments": {},
   "cell_type": "markdown",
   "metadata": {},
   "source": [
    "## Sentiment analysis\n",
    "This notebook trains a sentiment analysis model to classify the tags for a programming question on Stack Overflow based on the text of the question. This is an example of multi-class classification, an important and widely applicable kind of machine learning problem.\n",
    "</br></br>\n",
    "We'll use the Stack Overflow questions dataset that contains the text of 16,000 programming questions from the Stack Overflow. These are split into 8000 questions for training and 8000 question for testing. The training and testing sets are balanced, meaning they contain an equal number of question for each programming language."
   ]
  },
  {
   "attachments": {},
   "cell_type": "markdown",
   "metadata": {},
   "source": [
    "## Explore the dataset\n",
    "Let's extract the dataset the explore the directory structure"
   ]
  },
  {
   "cell_type": "code",
   "execution_count": 2,
   "metadata": {},
   "outputs": [],
   "source": [
    "dataset_dir=os.path.join(os.path.dirname('./'),'data')"
   ]
  },
  {
   "cell_type": "code",
   "execution_count": 3,
   "metadata": {},
   "outputs": [
    {
     "data": {
      "text/plain": [
       "['README.md', 'test', 'train']"
      ]
     },
     "execution_count": 3,
     "metadata": {},
     "output_type": "execute_result"
    }
   ],
   "source": [
    "os.listdir(dataset_dir)"
   ]
  },
  {
   "cell_type": "code",
   "execution_count": 4,
   "metadata": {},
   "outputs": [
    {
     "data": {
      "text/plain": [
       "['csharp', 'java', 'javascript', 'python']"
      ]
     },
     "execution_count": 4,
     "metadata": {},
     "output_type": "execute_result"
    }
   ],
   "source": [
    "train_dir=os.path.join(dataset_dir,'train')\n",
    "os.listdir(train_dir)"
   ]
  },
  {
   "attachments": {},
   "cell_type": "markdown",
   "metadata": {},
   "source": [
    "The `data/train` and `data/test` directories contain many text files, each of which is a single programming questions. Lets' take a look at one of them"
   ]
  },
  {
   "cell_type": "code",
   "execution_count": 5,
   "metadata": {},
   "outputs": [
    {
     "name": "stdout",
     "output_type": "stream",
     "text": [
      "\"how to pause loop while time is ticking i have made a timer where i can set time i want to wait and then do something..so this is my short timer func:..private void sleep(int interval, action action).{.    system.windows.forms.timer mytimer = new system.windows.forms.timer();.    mytimer.interval = interval; //interval is in ms   .    mytimer.start();.    mytimer.tick += (s, e) =&gt;.    {.        action();.        mytimer.stop();.    };.}...and im using this timer in loop:..foreach (string word in words).{.   sleep(5000, ()=&gt; myaction());                                           .}...without loop timer is great but in loop it wont work because loop wont stop and wait for those 5secs. it do all stuff imediately and starts timer again and again too fast...so what im trying to find out is how to make my loop wait until time runs out and myaction() is executed. im working on forms application so all threadin sleeps wont work here. also i tried all other timers but they used too much cpu.\"\n",
      "\n"
     ]
    }
   ],
   "source": [
    "sample_file=os.path.join(train_dir,'csharp/0.txt')\n",
    "with open(sample_file) as f:\n",
    "    print(f.read())"
   ]
  },
  {
   "attachments": {},
   "cell_type": "markdown",
   "metadata": {},
   "source": [
    "## Load the dataset\n",
    "We will load the data off disk and prepare it into a format suitable for training. To do so, we will use the `text_dataaset_from_directory`\n",
    "</br></br>\n",
    "To prepare a dataset for multi-class classification, we will need four folder on disk, corresponding to differenct programming language. This can be found in `data/train/csharp`, `data/train/java`, `data/train/javascript` and `data/train/python`.\n",
    "</br></br>\n",
    "Next, we will use the `text_dataset_from_directory` utility to create a labeled `tf.data.Dataset`. `tf.data` is a powerful collection of tools for working with data.\n",
    "</br></br>\n",
    "When running a machine learning experiment it is a best practice to divide our dataset into threes splits: `train`, `validation`, `test`.\n",
    "</br></br>\n",
    "The Stack Overflow questions dataset has alreadt been divided into train and test, but it lacks a validation set. Let's create a validation set using 80:20 split of the training data by using the `validation_split` argument."
   ]
  },
  {
   "cell_type": "code",
   "execution_count": 6,
   "metadata": {},
   "outputs": [
    {
     "name": "stdout",
     "output_type": "stream",
     "text": [
      "Found 8000 files belonging to 4 classes.\n",
      "Using 6400 files for training.\n"
     ]
    }
   ],
   "source": [
    "batch_size=32\n",
    "seed=42\n",
    "\n",
    "raw_train_ds=tf.keras.utils.text_dataset_from_directory(\n",
    "    'data/train',\n",
    "    batch_size=batch_size,\n",
    "    validation_split=0.2,\n",
    "    subset='training',\n",
    "    seed=seed\n",
    ")"
   ]
  },
  {
   "attachments": {},
   "cell_type": "markdown",
   "metadata": {},
   "source": [
    "As we can see above, there are 8000 examples in the training folder, of which we will use 80% (or 6400) for training.\n",
    "</br></br>\n",
    "We can also iterate over the dataset and print out a few examples to see the sample questions."
   ]
  },
  {
   "cell_type": "code",
   "execution_count": 7,
   "metadata": {},
   "outputs": [
    {
     "name": "stdout",
     "output_type": "stream",
     "text": [
      "Question  b'\"my tester is going to the wrong constructor i am new to programming so if i ask a question that can be easily fixed, please forgive me. my program has a tester class with a main. when i send that to my regularpolygon class, it sends it to the wrong constructor. i have two constructors. 1 without perameters..public regularpolygon().    {.       mynumsides = 5;.       mysidelength = 30;.    }//end default constructor...and my second, with perameters. ..public regularpolygon(int numsides, double sidelength).    {.        mynumsides = numsides;.        mysidelength = sidelength;.    }// end constructor...in my tester class i have these two lines:..regularpolygon shape = new regularpolygon(numsides, sidelength);.        shape.menu();...numsides and sidelength were declared and initialized earlier in the testing class...so what i want to happen, is the tester class sends numsides and sidelength to the second constructor and use it in that class. but it only uses the default constructor, which therefor ruins the whole rest of the program. can somebody help me?..for those of you who want to see more of my code: here you go..public double vertexangle().    {.        system.out.println(\"\"the vertex angle method: \"\" + mynumsides);// prints out 5.        system.out.println(\"\"the vertex angle method: \"\" + mysidelength); // prints out 30..        double vertexangle;.        vertexangle = ((mynumsides - 2.0) / mynumsides) * 180.0;.        return vertexangle;.    }//end method vertexangle..public void menu().{.    system.out.println(mynumsides); // prints out what the user puts in.    system.out.println(mysidelength); // prints out what the user puts in.    gotographic();.    calcr(mynumsides, mysidelength);.    calcr(mynumsides, mysidelength);.    print(); .}// end menu...this is my entire tester class:..public static void main(string[] arg).{.    int numsides;.    double sidelength;.    scanner keyboard = new scanner(system.in);..    system.out.println(\"\"welcome to the regular polygon program!\"\");.    system.out.println();..    system.out.print(\"\"enter the number of sides of the polygon ==&gt; \"\");.    numsides = keyboard.nextint();.    system.out.println();..    system.out.print(\"\"enter the side length of each side ==&gt; \"\");.    sidelength = keyboard.nextdouble();.    system.out.println();..    regularpolygon shape = new regularpolygon(numsides, sidelength);.    shape.menu();.}//end main...for testing it i sent it numsides 4 and sidelength 100.\"\\n'\n",
      "Language  1\n",
      "Question  b'\"blank code slow skin detection this code changes the color space to lab and using a threshold finds the skin area of an image. but it\\'s ridiculously slow. i don\\'t know how to make it faster ?    ..from colormath.color_objects import *..def skindetection(img, treshold=80, color=[255,20,147]):..    print img.shape.    res=img.copy().    for x in range(img.shape[0]):.        for y in range(img.shape[1]):.            rgbimg=rgbcolor(img[x,y,0],img[x,y,1],img[x,y,2]).            labimg=rgbimg.convert_to(\\'lab\\', debug=false).            if (labimg.lab_l &gt; treshold):.                res[x,y,:]=color.            else: .                res[x,y,:]=img[x,y,:]..    return res\"\\n'\n",
      "Language  3\n",
      "Question  b'\"option and validation in blank i want to add a new option on my system where i want to add two text files, both rental.txt and customer.txt. inside each text are id numbers of the customer, the videotape they need and the price...i want to place it as an option on my code. right now i have:...add customer.rent return.view list.search.exit...i want to add this as my sixth option. say for example i ordered a video, it would display the price and would let me confirm the price and if i am going to buy it or not...here is my current code:..  import blank.io.*;.    import blank.util.arraylist;.    import static blank.lang.system.out;..    public class rentalsystem{.    static bufferedreader input = new bufferedreader(new inputstreamreader(system.in));.    static file file = new file(\"\"file.txt\"\");.    static arraylist&lt;string&gt; list = new arraylist&lt;string&gt;();.    static int rows;..    public static void main(string[] args) throws exception{.        introduction();.        system.out.print(\"\"nn\"\");.        login();.        system.out.print(\"\"nnnnnnnnnnnnnnnnnnnnnn\"\");.        introduction();.        string repeat;.        do{.            loadfile();.            system.out.print(\"\"nwhat do you want to do?nn\"\");.            system.out.print(\"\"n                    - - - - - - - - - - - - - - - - - - - - - - -\"\");.            system.out.print(\"\"nn                    |     1. add customer    |   2. rent return |n\"\");.            system.out.print(\"\"n                    - - - - - - - - - - - - - - - - - - - - - - -\"\");.            system.out.print(\"\"nn                    |     3. view list       |   4. search      |n\"\");.            system.out.print(\"\"n                    - - - - - - - - - - - - - - - - - - - - - - -\"\");.            system.out.print(\"\"nn                                             |   5. exit        |n\"\");.            system.out.print(\"\"n                                              - - - - - - - - - -\"\");.            system.out.print(\"\"nnchoice:\"\");.            int choice = integer.parseint(input.readline());.            switch(choice){.                case 1:.                    writedata();.                    break;.                case 2:.                    rentdata();.                    break;.                case 3:.                    viewlist();.                    break;.                case 4:.                    search();.                    break;.                case 5:.                    system.out.println(\"\"goodbye!\"\");.                    system.exit(0);.                default:.                    system.out.print(\"\"invalid choice: \"\");.                    break;.            }.            system.out.print(\"\"ndo another task? [y/n] \"\");.            repeat = input.readline();.        }while(repeat.equals(\"\"y\"\"));..        if(repeat!=\"\"y\"\") system.out.println(\"\"ngoodbye!\"\");..    }..    public static void writedata() throws exception{.        system.out.print(\"\"nname: \"\");.        string cname = input.readline();.        system.out.print(\"\"address: \"\");.        string add = input.readline();.        system.out.print(\"\"phone no.: \"\");.        string pno = input.readline();.        system.out.print(\"\"rental amount: \"\");.        string ramount = input.readline();.        system.out.print(\"\"tapenumber: \"\");.        string tno = input.readline();.        system.out.print(\"\"title: \"\");.        string title = input.readline();.        system.out.print(\"\"date borrowed: \"\");.        string dborrowed = input.readline();.        system.out.print(\"\"due date: \"\");.        string ddate = input.readline();.        createline(cname, add, pno, ramount,tno, title, dborrowed, ddate);.        rentdata();.    }..    public static void createline(string name, string address, string phone , string rental, string tapenumber, string title, string borrowed, string due) throws exception{.        filewriter fw = new filewriter(file, true);.        fw.write(\"\"nname: \"\"+name + \"\"naddress: \"\" + address +\"\"nphone no.: \"\"+ phone+\"\"nrentalamount: \"\"+rental+\"\"ntape no.: \"\"+ tapenumber+\"\"ntitle: \"\"+ title+\"\"ndate borrowed: \"\"+borrowed +\"\"ndue date: \"\"+ due+\"\":rn\"\");.        fw.close();.    }..    public static void loadfile() throws exception{.        try{.            list.clear();.            fileinputstream fstream = new fileinputstream(file);.            bufferedreader br = new bufferedreader(new inputstreamreader(fstream));.            rows = 0;.            while( br.ready()).            {.                list.add(br.readline());.                rows++;.            }.            br.close();.        } catch(exception e){.            system.out.println(\"\"list not yet loaded.\"\");.        }.    }..    public static void viewlist(){.        system.out.print(\"\"n~ ~ ~ ~ ~ ~ ~ ~ ~ ~ ~\"\");.        system.out.print(\"\" |list of all costumers|\"\");.        system.out.print(\"\"~ ~ ~ ~ ~ ~ ~ ~ ~ ~ ~\"\");.        for(int i = 0; i &lt;rows; i++){.            system.out.println(list.get(i));.        }.    }.        public static void rentdata()throws exception.    {   system.out.print(\"\"n~ ~ ~ ~ ~ ~ ~ ~ ~ ~ ~\"\");.        system.out.print(\"\" |rent data list|\"\");.        system.out.print(\"\"~ ~ ~ ~ ~ ~ ~ ~ ~ ~ ~\"\");.        system.out.print(\"\"nenter customer name: \"\");.        string cname = input.readline();.        system.out.print(\"\"date borrowed: \"\");.        string dborrowed = input.readline();.        system.out.print(\"\"due date: \"\");.        string ddate = input.readline();.        system.out.print(\"\"return date: \"\");.        string rdate = input.readline();.        system.out.print(\"\"rent amount: \"\");.        string ramount = input.readline();..        system.out.print(\"\"you pay:\"\"+ramount);...    }.    public static void search()throws exception.    {   system.out.print(\"\"n~ ~ ~ ~ ~ ~ ~ ~ ~ ~ ~\"\");.        system.out.print(\"\" |search costumers|\"\");.        system.out.print(\"\"~ ~ ~ ~ ~ ~ ~ ~ ~ ~ ~\"\");.        system.out.print(\"\"nenter costumer name: \"\");.        string cname = input.readline();.        boolean found = false;..        for(int i=0; i &lt; rows; i++){.            string temp[] = list.get(i).split(\"\",\"\");..            if(cname.equals(temp[0])){.            system.out.println(\"\"search result:nyou are \"\" + temp[0] + \"\" from \"\" + temp[1] + \"\".\"\"+ temp[2] + \"\".\"\"+ temp[3] + \"\".\"\"+ temp[4] + \"\".\"\"+ temp[5] + \"\" is \"\" + temp[6] + \"\".\"\"+ temp[7] + \"\" is \"\" + temp[8] + \"\".\"\");.                found = true;.            }.        }..        if(!found){.            system.out.print(\"\"no results.\"\");.        }..    }..        public static boolean evaluate(string uname, string pass){.        if (uname.equals(\"\"admin\"\")&amp;&amp;pass.equals(\"\"12345\"\")) return true;.        else return false;.    }..    public static string login()throws exception{.        bufferedreader input=new bufferedreader(new inputstreamreader(system.in));.        int counter=0;.        do{.            system.out.print(\"\"username:\"\");.            string uname =input.readline();.            system.out.print(\"\"password:\"\");.            string pass =input.readline();..            boolean accept= evaluate(uname,pass);..            if(accept){.                break;.                }else{.                    system.out.println(\"\"incorrect username or password!\"\");.                    counter ++;.                    }.        }while(counter&lt;3);..            if(counter !=3) return \"\"login successful\"\";.            else return \"\"login failed\"\";.            }.        public static void introduction() throws exception{..        system.out.println(\"\"                  - - - - - - - - - - - - - - - - - - - - - - - - -\"\");.        system.out.println(\"\"                  !                  r e n t a l                  !\"\");.        system.out.println(\"\"                   ! ~ ~ ~ ~ ~ !  =================  ! ~ ~ ~ ~ ~ !\"\");.        system.out.println(\"\"                  !                  s y s t e m                  !\"\");.        system.out.println(\"\"                  - - - - - - - - - - - - - - - - - - - - - - - - -\"\");.        }..}\"\\n'\n",
      "Language  1\n",
      "Question  b'\"exception: dynamic sql generation for the updatecommand is not supported against a selectcommand that does not return any key i dont know what is the problem this my code : ..string nomtable;..datatable listeetablissementtable = new datatable();.datatable listeinteretstable = new datatable();.dataset ds = new dataset();.sqldataadapter da;.sqlcommandbuilder cmdb;..private void listeinterets_click(object sender, eventargs e).{.    nomtable = \"\"listeinteretstable\"\";.    d.cnx.open();.    da = new sqldataadapter(\"\"select nome from offices\"\", d.cnx);.    ds = new dataset();.    da.fill(ds, nomtable);.    datagridview1.datasource = ds.tables[nomtable];.}..private void sauvgarder_click(object sender, eventargs e).{.    d.cnx.open();.    cmdb = new sqlcommandbuilder(da);.    da.update(ds, nomtable);.    d.cnx.close();.}\"\\n'\n",
      "Language  0\n",
      "Question  b'\"parameter with question mark and super in blank, i\\'ve come across a method that is formatted like this:..public final subscription subscribe(final action1&lt;? super t&gt; onnext, final action1&lt;throwable&gt; onerror) {.}...in the first parameter, what does the question mark and super mean?\"\\n'\n",
      "Language  1\n",
      "Question  b'call two objects wsdl the first time i got a very strange wsdl. ..i would like to call the object (interface - invoicecheck_out) do you know how?....i would like to call the object (variable) do you know how?..try to call (it`s ok)....try to call (how call this?)\\n'\n",
      "Language  0\n",
      "Question  b\"how to correctly make the icon for systemtray in blank using icon sizes of any dimension for systemtray doesn't look good overall. .what is the correct way of making icons for windows system tray?..screenshots: http://imgur.com/zsibwn9..icon: http://imgur.com/vsh4zo8\\n\"\n",
      "Language  0\n",
      "Question  b'\"is there a way to check a variable that exists in a different script than the original one? i\\'m trying to check if a variable, which was previously set to true in 2.py in 1.py, as 1.py is only supposed to continue if the variable is true...2.py..import os..completed = false..#some stuff here..completed = true...1.py..import 2 ..if completed == true.   #do things...however i get a syntax error at ..if completed == true\"\\n'\n",
      "Language  3\n",
      "Question  b'\"blank control flow i made a number which asks for 2 numbers with blank and responds with  the corresponding message for the case. how come it doesnt work  for the second number ? .regardless what i enter for the second number , i am getting the message \"\"your number is in the range 0-10\"\"...using system;.using system.collections.generic;.using system.linq;.using system.text;..namespace consoleapplication1.{.    class program.    {.        static void main(string[] args).        {.            string myinput;  // declaring the type of the variables.            int myint;..            string number1;.            int number;...            console.writeline(\"\"enter a number\"\");.            myinput = console.readline(); //muyinput is a string  which is entry input.            myint = int32.parse(myinput); // myint converts the string into an integer..            if (myint &gt; 0).                console.writeline(\"\"your number {0} is greater than zero.\"\", myint);.            else if (myint &lt; 0).                console.writeline(\"\"your number {0} is  less  than zero.\"\", myint);.            else.                console.writeline(\"\"your number {0} is equal zero.\"\", myint);..            console.writeline(\"\"enter another number\"\");.            number1 = console.readline(); .            number = int32.parse(myinput); ..            if (number &lt; 0 || number == 0).                console.writeline(\"\"your number {0} is  less  than zero or equal zero.\"\", number);.            else if (number &gt; 0 &amp;&amp; number &lt;= 10).                console.writeline(\"\"your number {0} is  in the range from 0 to 10.\"\", number);.            else.                console.writeline(\"\"your number {0} is greater than 10.\"\", number);..            console.writeline(\"\"enter another number\"\");..        }.    }    .}\"\\n'\n",
      "Language  0\n",
      "Question  b'\"credentials cannot be used for ntlm authentication i am getting org.apache.commons.httpclient.auth.invalidcredentialsexception: credentials cannot be used for ntlm authentication: exception in eclipse..whether it is possible mention eclipse to take system proxy settings directly?..public class httpgetproxy {.    private static final string proxy_host = \"\"proxy.****.com\"\";.    private static final int proxy_port = 6050;..    public static void main(string[] args) {.        httpclient client = new httpclient();.        httpmethod method = new getmethod(\"\"https://kodeblank.org\"\");..        hostconfiguration config = client.gethostconfiguration();.        config.setproxy(proxy_host, proxy_port);..        string username = \"\"*****\"\";.        string password = \"\"*****\"\";.        credentials credentials = new usernamepasswordcredentials(username, password);.        authscope authscope = new authscope(proxy_host, proxy_port);..        client.getstate().setproxycredentials(authscope, credentials);..        try {.            client.executemethod(method);..            if (method.getstatuscode() == httpstatus.sc_ok) {.                string response = method.getresponsebodyasstring();.                system.out.println(\"\"response = \"\" + response);.            }.        } catch (ioexception e) {.            e.printstacktrace();.        } finally {.            method.releaseconnection();.        }.    }.}...exception:...  dec 08, 2017 1:41:39 pm .          org.apache.commons.httpclient.auth.authchallengeprocessor selectauthscheme.         info: ntlm authentication scheme selected.       dec 08, 2017 1:41:39 pm org.apache.commons.httpclient.httpmethoddirector executeconnect.         severe: credentials cannot be used for ntlm authentication: .           org.apache.commons.httpclient.usernamepasswordcredentials.           org.apache.commons.httpclient.auth.invalidcredentialsexception: credentials .         cannot be used for ntlm authentication: .        enter code here .          org.apache.commons.httpclient.usernamepasswordcredentials.      at org.apache.commons.httpclient.auth.ntlmscheme.authenticate(ntlmscheme.blank:332).        at org.apache.commons.httpclient.httpmethoddirector.authenticateproxy(httpmethoddirector.blank:320).      at org.apache.commons.httpclient.httpmethoddirector.executeconnect(httpmethoddirector.blank:491).      at org.apache.commons.httpclient.httpmethoddirector.executewithretry(httpmethoddirector.blank:391).      at org.apache.commons.httpclient.httpmethoddirector.executemethod(httpmethoddirector.blank:171).      at org.apache.commons.httpclient.httpclient.executemethod(httpclient.blank:397).      at org.apache.commons.httpclient.httpclient.executemethod(httpclient.blank:323).      at httpgetproxy.main(httpgetproxy.blank:31).  dec 08, 2017 1:41:39 pm org.apache.commons.httpclient.httpmethoddirector processproxyauthchallenge.  info: failure authenticating with ntlm @proxy.****.com:6050\"\\n'\n",
      "Language  1\n"
     ]
    }
   ],
   "source": [
    "for text_batch,label_batch in raw_train_ds.take(1):\n",
    "    for i in range(10):\n",
    "        print(\"Question \",text_batch.numpy()[i])\n",
    "        print(\"Language \",label_batch.numpy()[i])"
   ]
  },
  {
   "attachments": {},
   "cell_type": "markdown",
   "metadata": {},
   "source": [
    "These labels are 0 to 3. To see which of these correspond to which programming language, we can check the `class_names` property on the dataset"
   ]
  },
  {
   "cell_type": "code",
   "execution_count": 8,
   "metadata": {},
   "outputs": [
    {
     "name": "stdout",
     "output_type": "stream",
     "text": [
      "Language 0 corresponds to csharp\n",
      "Language 1 corresponds to java\n",
      "Language 2 corresponds to javascript\n",
      "Language 3 corresponds to python\n"
     ]
    }
   ],
   "source": [
    "print(\"Language 0 corresponds to\",raw_train_ds.class_names[0])\n",
    "print(\"Language 1 corresponds to\",raw_train_ds.class_names[1])\n",
    "print(\"Language 2 corresponds to\",raw_train_ds.class_names[2])\n",
    "print(\"Language 3 corresponds to\",raw_train_ds.class_names[3])"
   ]
  },
  {
   "attachments": {},
   "cell_type": "markdown",
   "metadata": {},
   "source": [
    "Next, we will create a validation and test dataset. We will use the remaining 1600 reviews from the training set for validation"
   ]
  },
  {
   "cell_type": "code",
   "execution_count": 9,
   "metadata": {},
   "outputs": [
    {
     "name": "stdout",
     "output_type": "stream",
     "text": [
      "Found 8000 files belonging to 4 classes.\n",
      "Using 1600 files for validation.\n"
     ]
    }
   ],
   "source": [
    "raw_val_ds=tf.keras.utils.text_dataset_from_directory(\n",
    "    'data/train',\n",
    "    batch_size=batch_size,\n",
    "    validation_split=0.2,\n",
    "    subset='validation',\n",
    "    seed=seed\n",
    ")"
   ]
  },
  {
   "cell_type": "code",
   "execution_count": 10,
   "metadata": {},
   "outputs": [
    {
     "name": "stdout",
     "output_type": "stream",
     "text": [
      "Found 8000 files belonging to 4 classes.\n"
     ]
    }
   ],
   "source": [
    "raw_test_ds=tf.keras.utils.text_dataset_from_directory(\n",
    "    'data/test',\n",
    "    batch_size=batch_size\n",
    ")"
   ]
  },
  {
   "attachments": {},
   "cell_type": "markdown",
   "metadata": {},
   "source": [
    "## Prepare the dataset for training"
   ]
  },
  {
   "attachments": {},
   "cell_type": "markdown",
   "metadata": {},
   "source": [
    "Next, we will **standardize**, **tokenize** and **vectorize** the data using the `tf.keras.layers.TextVectorization` layer.\n",
    "</br></br>\n",
    "**Standardization** refers to preprocessing the text, typically to remove punctuation or HTML elements to simplify dataset.</br> \n",
    "**Tokenization** refers to splitting strings into tokens (for example, splitting a sentence into individual words, by splitting on whitespace).</br>\n",
    "Vectorization refers to converting tokens into numbers so they can be fed into a neural network.</br>\n",
    "All of these tasks can be accomplished with this layer.\n",
    "</br></br>\n",
    "As we saw above, the reviews contain various HTML tags like `<br />`. These tags will not be removed by the default standardizer in the TextVectorization layer (which converts text to lowercase and strips punctuation by default, but doesn't strip HTML). You will write a custom standardization function to remove the HTML."
   ]
  },
  {
   "cell_type": "code",
   "execution_count": 11,
   "metadata": {},
   "outputs": [],
   "source": [
    "def custom_standardization(input_data):\n",
    "  lowercase = tf.strings.lower(input_data)\n",
    "  stripped_html = tf.strings.regex_replace(lowercase, '<br />', ' ')\n",
    "  return tf.strings.regex_replace(stripped_html,\n",
    "                                  '[%s]' % re.escape(string.punctuation),\n",
    "                                  '')"
   ]
  },
  {
   "attachments": {},
   "cell_type": "markdown",
   "metadata": {},
   "source": [
    "Next, we will create `TextVectorization` layer. We will use this layer to standardize, tokenize, and vectorize our data. We set the `output_mode` to `int` to create unique integer indices for each token.\n",
    "</br></br>\n",
    "We are using the default split function and the custom standardization function we defined above. We'll also define some constants for the model, like an explicit maxinunm `sequence_length`, which will cause the layer to pad or truncate sequences to exactly `sequence_length` values."
   ]
  },
  {
   "cell_type": "code",
   "execution_count": 12,
   "metadata": {},
   "outputs": [],
   "source": [
    "max_features = 10000\n",
    "sequence_length = 250\n",
    "\n",
    "vectorize_layer = layers.TextVectorization(\n",
    "    standardize=custom_standardization,\n",
    "    max_tokens=max_features,\n",
    "    output_mode='int',\n",
    "    output_sequence_length=sequence_length)"
   ]
  },
  {
   "attachments": {},
   "cell_type": "markdown",
   "metadata": {},
   "source": [
    "Next, we will call `adapt` to fit the state of the preprocessing layer to the dataset. This will cause the model to build and index of strings to integers."
   ]
  },
  {
   "cell_type": "code",
   "execution_count": 13,
   "metadata": {},
   "outputs": [],
   "source": [
    "train_text = raw_train_ds.map(lambda x, y: x)\n",
    "vectorize_layer.adapt(train_text)"
   ]
  },
  {
   "attachments": {},
   "cell_type": "markdown",
   "metadata": {},
   "source": [
    "Create a function to see the result of using this layer to preprocess some data."
   ]
  },
  {
   "cell_type": "code",
   "execution_count": 14,
   "metadata": {},
   "outputs": [],
   "source": [
    "def vectorize_text(text, label):\n",
    "  text = tf.expand_dims(text, -1)\n",
    "  return vectorize_layer(text), label"
   ]
  },
  {
   "cell_type": "code",
   "execution_count": 15,
   "metadata": {},
   "outputs": [
    {
     "name": "stdout",
     "output_type": "stream",
     "text": [
      "Question:  tf.Tensor(b'\"set blank to quit on exception? i\\'m using blank 3..i\\'ve been looking around for an answer to this, but i haven\\'t found it yet. basically, i\\'m running several blank scripts into a game engine, and each script has its own entry point...i\\'d rather not add try: except blocks through all of my code, so i was wondering if it\\'s at all possible to tell blank to quit (or perhaps assign a custom function to that \"\"callback\"\") on finding its first error, regardless of where or what it found? ..currently, the game engine will continue after finding and hitting an error, making it more difficult than necessary to diagnose issues since running into one error may make a subsequent script not work (as it relies on variables that the error-ing script set, for example). any ideas? ..i know that i could redirect the console to a file to allow for easier scrolling, but just capturing the first error and stopping the game prematurely would be really useful...okay, a couple of extra bits of info - sorry for neglecting to say this. the engine i\\'m using (the blender game engine) is coded in c, so changing the source is more than i\\'d like to do.....after googling, it would appear that a similar question with a solid answer has been asked here, which is how to get the last raised exception. if i check the sys module for the presence of the last_value variable and it exists, then i can quit prematurely, as the console would have already printed out the error...thanks for the help.\"\\n', shape=(), dtype=string)\n",
      "Language:  python\n",
      "Vectorized questions:  (<tf.Tensor: shape=(1, 250), dtype=int64, numpy=\n",
      "array([[ 107,   16,    4, 1138,   38,  184,   52,   47,   16,    1,  215,\n",
      "         416,  518,   12,   32,  181,    4,   13,   26,    3, 1414,  227,\n",
      "          11,  894,  627,   52,  309,  718,   16, 1272,  100,    5,  244,\n",
      "        1826,    8,  119,  223,   95,   96,  657,  858,    1,  797,   20,\n",
      "         125,  117,  559, 2280,  194,   73,    9,   23,   30,   49,    3,\n",
      "         114,  566,   10,   96,   59,   73,  206,    4,  412,   16,    4,\n",
      "        1138,   45, 1669,  600,    5,  696,   37,    4,   14,  850,   38,\n",
      "         966,   96,   98,   65, 2373,    9,  132,   45,   55,   11,  227,\n",
      "         403,    2,  244, 1826,   72,  534,  156,  966,    8, 7799,   32,\n",
      "          65,  469,   11,  182, 2332,  198, 1460,    4,    1, 1093,  447,\n",
      "         309,  100,   71,   65,  454,  109,    5, 3554,  223,   20,  139,\n",
      "          36,   11, 9038,   38,  233,   14,    2,    1,  223,  107,   12,\n",
      "         137,   76,  778,    3,  103,   14,    3,  177, 1852,    2,  332,\n",
      "           4,    5,   39,    4,  787,   12, 1319, 3573,   26,  106,    1,\n",
      "           2,   98,   65,    8, 2900,    2,  244,    1,   69,   33,  336,\n",
      "           1,    5, 1758,    9, 1157, 2528,    9,  568,  729,   12,    1,\n",
      "           4,  321,   13,    2, 1826,   52,   47,    2,    1,  244, 1826,\n",
      "           6, 2616,    7,  131,   49,  801,    2,  313,    6,  182,  198,\n",
      "         142,   48,    4,    1, 3958,   11,   69,  881,   14,    5,  522,\n",
      "         159,   21,    5, 1705,  181,   95,  215,  912,  101,   66,    6,\n",
      "          24,    4,   41,    2,  218, 2916,  184,   10,    3,  186,    2,\n",
      "        1358,  380,   12,    2, 9137,    9,    2,    1,  116,    8,   11,\n",
      "         756,   87,    3,   35, 1138,    1,   36,    2]], dtype=int64)>, <tf.Tensor: shape=(), dtype=int32, numpy=3>)\n"
     ]
    }
   ],
   "source": [
    "text_batch,label_batch=next(iter(raw_train_ds))\n",
    "first_question,first_language=text_batch[0],label_batch[0]\n",
    "print(\"Question: \",first_question)\n",
    "print(\"Language: \",raw_train_ds.class_names[first_language])\n",
    "print(\"Vectorized questions: \",vectorize_text(first_question,first_language))"
   ]
  },
  {
   "attachments": {},
   "cell_type": "markdown",
   "metadata": {},
   "source": [
    "As we can see above, eack token has been replaced by an integer. We can lookup the token (string) that each integer corresponds to by calling `.get_vocabulary()` on the layer."
   ]
  },
  {
   "cell_type": "code",
   "execution_count": 16,
   "metadata": {},
   "outputs": [
    {
     "name": "stdout",
     "output_type": "stream",
     "text": [
      "1314 --->  magic\n",
      "1111 --->  comma\n",
      "Vocabulary size: 10000\n"
     ]
    }
   ],
   "source": [
    "print(\"1314 ---> \",vectorize_layer.get_vocabulary()[1314])\n",
    "print(\"1111 ---> \",vectorize_layer.get_vocabulary()[1111])\n",
    "print(\"Vocabulary size: {}\".format(len(vectorize_layer.get_vocabulary())))"
   ]
  },
  {
   "attachments": {},
   "cell_type": "markdown",
   "metadata": {},
   "source": [
    "As a final preprocessing steps, we will apply the TextVectorization layer we created earlier to the train, validation and the test dataset."
   ]
  },
  {
   "cell_type": "code",
   "execution_count": 17,
   "metadata": {},
   "outputs": [],
   "source": [
    "train_ds = raw_train_ds.map(vectorize_text)\n",
    "val_ds = raw_val_ds.map(vectorize_text)\n",
    "test_ds = raw_test_ds.map(vectorize_text)"
   ]
  },
  {
   "attachments": {},
   "cell_type": "markdown",
   "metadata": {},
   "source": [
    "## Configure the dataset for performance\n",
    "These are two important method we should use when loading data to make sure that I/O does not become blocking.\n",
    "</br></br>\n",
    "`.cache()` keepds data in memory after it's loaded off disk. This will ensure the dataset does not become a bottleneck while training model. If the dataset is too large to fit into memory, we can also use this method to create a performant on-disk cache, which is more efficient to read than many small files.\n",
    "</br></br>\n",
    "`.prefetch()` overlaps data preprocessing and model execution while training"
   ]
  },
  {
   "cell_type": "code",
   "execution_count": 18,
   "metadata": {},
   "outputs": [],
   "source": [
    "AUTOTUNE = tf.data.AUTOTUNE\n",
    "\n",
    "train_ds = train_ds.cache().prefetch(buffer_size=AUTOTUNE)\n",
    "val_ds = val_ds.cache().prefetch(buffer_size=AUTOTUNE)\n",
    "test_ds = test_ds.cache().prefetch(buffer_size=AUTOTUNE)"
   ]
  },
  {
   "attachments": {},
   "cell_type": "markdown",
   "metadata": {},
   "source": [
    "## Create the model"
   ]
  },
  {
   "cell_type": "code",
   "execution_count": 19,
   "metadata": {},
   "outputs": [],
   "source": [
    "embedding_dim=16"
   ]
  },
  {
   "cell_type": "code",
   "execution_count": 20,
   "metadata": {},
   "outputs": [
    {
     "name": "stdout",
     "output_type": "stream",
     "text": [
      "Model: \"sequential\"\n",
      "_________________________________________________________________\n",
      " Layer (type)                Output Shape              Param #   \n",
      "=================================================================\n",
      " embedding (Embedding)       (None, None, 16)          160016    \n",
      "                                                                 \n",
      " dropout (Dropout)           (None, None, 16)          0         \n",
      "                                                                 \n",
      " global_average_pooling1d (G  (None, 16)               0         \n",
      " lobalAveragePooling1D)                                          \n",
      "                                                                 \n",
      " dropout_1 (Dropout)         (None, 16)                0         \n",
      "                                                                 \n",
      " dense (Dense)               (None, 4)                 68        \n",
      "                                                                 \n",
      "=================================================================\n",
      "Total params: 160,084\n",
      "Trainable params: 160,084\n",
      "Non-trainable params: 0\n",
      "_________________________________________________________________\n"
     ]
    }
   ],
   "source": [
    "model = tf.keras.Sequential([\n",
    "  layers.Embedding(max_features + 1, embedding_dim),\n",
    "  layers.Dropout(0.2),\n",
    "  layers.GlobalAveragePooling1D(),\n",
    "  layers.Dropout(0.2),\n",
    "  layers.Dense(4)])\n",
    "\n",
    "model.summary()"
   ]
  },
  {
   "attachments": {},
   "cell_type": "markdown",
   "metadata": {},
   "source": [
    "The layers stacked sequentially to build the classifier:\n",
    "1. The first layer is an `Embedding` layer. This layer takes the integer-encoded reviews and looks up an embedding vector for each word-index. These vectors are learned as the model trains. The vectors add a dimension to the output array. The resulting dimension are : `(batch, sequence, embedding)`\n",
    "1. Next, a `GlobalAveragePooling1D` layer returns a fixed-length output vector for each example by averaging over the sequence dimension. This allows the model to handle input of variable length, in the simplest wat possible.\n",
    "1. The last layer is densely conencted to 4 node as there are four output classes."
   ]
  },
  {
   "attachments": {},
   "cell_type": "markdown",
   "metadata": {},
   "source": [
    "## Loss function and optimizer.\n",
    "\n",
    "A model needs a loss function and optimizer for training. Since this is a multi-class classification problem and the model outputs a probability for four classes, we'lll use `losses.SparseCategoricalCrossentropy` loss function"
   ]
  },
  {
   "cell_type": "code",
   "execution_count": 21,
   "metadata": {},
   "outputs": [],
   "source": [
    "model.compile(loss=losses.SparseCategoricalCrossentropy(from_logits=True),\n",
    "              optimizer='adam',\n",
    "              metrics=['accuracy'])"
   ]
  },
  {
   "attachments": {},
   "cell_type": "markdown",
   "metadata": {},
   "source": [
    "## Train the model\n",
    "Train the model by passing the `dataset` object to the fit method"
   ]
  },
  {
   "cell_type": "code",
   "execution_count": 22,
   "metadata": {},
   "outputs": [
    {
     "name": "stdout",
     "output_type": "stream",
     "text": [
      "Epoch 1/30\n",
      "200/200 [==============================] - 7s 21ms/step - loss: 1.3785 - accuracy: 0.3348 - val_loss: 1.3666 - val_accuracy: 0.5019\n",
      "Epoch 2/30\n",
      "200/200 [==============================] - 1s 5ms/step - loss: 1.3494 - accuracy: 0.4495 - val_loss: 1.3293 - val_accuracy: 0.5531\n",
      "Epoch 3/30\n",
      "200/200 [==============================] - 1s 4ms/step - loss: 1.3019 - accuracy: 0.5378 - val_loss: 1.2732 - val_accuracy: 0.6006\n",
      "Epoch 4/30\n",
      "200/200 [==============================] - 1s 4ms/step - loss: 1.2355 - accuracy: 0.5939 - val_loss: 1.2019 - val_accuracy: 0.6413\n",
      "Epoch 5/30\n",
      "200/200 [==============================] - 1s 4ms/step - loss: 1.1590 - accuracy: 0.6477 - val_loss: 1.1265 - val_accuracy: 0.6800\n",
      "Epoch 6/30\n",
      "200/200 [==============================] - 1s 4ms/step - loss: 1.0805 - accuracy: 0.6880 - val_loss: 1.0535 - val_accuracy: 0.7125\n",
      "Epoch 7/30\n",
      "200/200 [==============================] - 1s 4ms/step - loss: 1.0069 - accuracy: 0.7186 - val_loss: 0.9877 - val_accuracy: 0.7331\n",
      "Epoch 8/30\n",
      "200/200 [==============================] - 1s 4ms/step - loss: 0.9405 - accuracy: 0.7370 - val_loss: 0.9285 - val_accuracy: 0.7444\n",
      "Epoch 9/30\n",
      "200/200 [==============================] - 1s 4ms/step - loss: 0.8790 - accuracy: 0.7578 - val_loss: 0.8780 - val_accuracy: 0.7588\n",
      "Epoch 10/30\n",
      "200/200 [==============================] - 1s 4ms/step - loss: 0.8283 - accuracy: 0.7734 - val_loss: 0.8334 - val_accuracy: 0.7644\n",
      "Epoch 11/30\n",
      "200/200 [==============================] - 1s 4ms/step - loss: 0.7832 - accuracy: 0.7839 - val_loss: 0.7947 - val_accuracy: 0.7706\n",
      "Epoch 12/30\n",
      "200/200 [==============================] - 1s 4ms/step - loss: 0.7393 - accuracy: 0.7973 - val_loss: 0.7608 - val_accuracy: 0.7781\n",
      "Epoch 13/30\n",
      "200/200 [==============================] - 1s 4ms/step - loss: 0.7019 - accuracy: 0.8055 - val_loss: 0.7311 - val_accuracy: 0.7819\n",
      "Epoch 14/30\n",
      "200/200 [==============================] - 1s 4ms/step - loss: 0.6680 - accuracy: 0.8167 - val_loss: 0.7057 - val_accuracy: 0.7887\n",
      "Epoch 15/30\n",
      "200/200 [==============================] - 1s 4ms/step - loss: 0.6378 - accuracy: 0.8272 - val_loss: 0.6819 - val_accuracy: 0.7925\n",
      "Epoch 16/30\n",
      "200/200 [==============================] - 1s 4ms/step - loss: 0.6098 - accuracy: 0.8356 - val_loss: 0.6606 - val_accuracy: 0.7969\n",
      "Epoch 17/30\n",
      "200/200 [==============================] - 1s 4ms/step - loss: 0.5841 - accuracy: 0.8419 - val_loss: 0.6427 - val_accuracy: 0.7975\n",
      "Epoch 18/30\n",
      "200/200 [==============================] - 1s 4ms/step - loss: 0.5642 - accuracy: 0.8464 - val_loss: 0.6259 - val_accuracy: 0.8062\n",
      "Epoch 19/30\n",
      "200/200 [==============================] - 1s 4ms/step - loss: 0.5366 - accuracy: 0.8584 - val_loss: 0.6106 - val_accuracy: 0.8069\n",
      "Epoch 20/30\n",
      "200/200 [==============================] - 1s 4ms/step - loss: 0.5173 - accuracy: 0.8605 - val_loss: 0.5963 - val_accuracy: 0.8062\n",
      "Epoch 21/30\n",
      "200/200 [==============================] - 1s 4ms/step - loss: 0.4979 - accuracy: 0.8702 - val_loss: 0.5829 - val_accuracy: 0.8069\n",
      "Epoch 22/30\n",
      "200/200 [==============================] - 1s 4ms/step - loss: 0.4810 - accuracy: 0.8691 - val_loss: 0.5715 - val_accuracy: 0.8087\n",
      "Epoch 23/30\n",
      "200/200 [==============================] - 1s 4ms/step - loss: 0.4643 - accuracy: 0.8758 - val_loss: 0.5617 - val_accuracy: 0.8119\n",
      "Epoch 24/30\n",
      "200/200 [==============================] - 1s 4ms/step - loss: 0.4467 - accuracy: 0.8811 - val_loss: 0.5517 - val_accuracy: 0.8163\n",
      "Epoch 25/30\n",
      "200/200 [==============================] - 1s 4ms/step - loss: 0.4323 - accuracy: 0.8856 - val_loss: 0.5426 - val_accuracy: 0.8138\n",
      "Epoch 26/30\n",
      "200/200 [==============================] - 1s 4ms/step - loss: 0.4195 - accuracy: 0.8864 - val_loss: 0.5344 - val_accuracy: 0.8175\n",
      "Epoch 27/30\n",
      "200/200 [==============================] - 1s 4ms/step - loss: 0.4047 - accuracy: 0.8955 - val_loss: 0.5272 - val_accuracy: 0.8219\n",
      "Epoch 28/30\n",
      "200/200 [==============================] - 1s 4ms/step - loss: 0.3919 - accuracy: 0.8964 - val_loss: 0.5202 - val_accuracy: 0.8231\n",
      "Epoch 29/30\n",
      "200/200 [==============================] - 1s 4ms/step - loss: 0.3790 - accuracy: 0.9009 - val_loss: 0.5137 - val_accuracy: 0.8219\n",
      "Epoch 30/30\n",
      "200/200 [==============================] - 1s 4ms/step - loss: 0.3661 - accuracy: 0.9031 - val_loss: 0.5079 - val_accuracy: 0.8231\n"
     ]
    }
   ],
   "source": [
    "epochs=30\n",
    "history=model.fit(\n",
    "    train_ds,\n",
    "    validation_data=val_ds,\n",
    "    epochs=epochs\n",
    ")"
   ]
  },
  {
   "attachments": {},
   "cell_type": "markdown",
   "metadata": {},
   "source": [
    "## Evaluate the model\n",
    "Two values will be returned. Loss (a number which represents our model error, lower values are better) and accuracy"
   ]
  },
  {
   "cell_type": "code",
   "execution_count": 23,
   "metadata": {},
   "outputs": [
    {
     "name": "stdout",
     "output_type": "stream",
     "text": [
      "250/250 [==============================] - 15s 57ms/step - loss: 0.5588 - accuracy: 0.7980\n",
      "Loss: 0.5587634444236755\n",
      "Accuracy: 0.7979999780654907\n"
     ]
    }
   ],
   "source": [
    "loss,accuracy=model.evaluate(test_ds)\n",
    "\n",
    "print(\"Loss:\",loss)\n",
    "print(\"Accuracy:\",accuracy)"
   ]
  },
  {
   "attachments": {},
   "cell_type": "markdown",
   "metadata": {},
   "source": [
    "This fairly naive approach achieves an accuracy of about 80%"
   ]
  },
  {
   "attachments": {},
   "cell_type": "markdown",
   "metadata": {},
   "source": [
    "## Create a plot of accuracy and loss over time\n",
    "`model.fit()` return a `History` object that contains a dictionary with everything that happened during training:"
   ]
  },
  {
   "cell_type": "code",
   "execution_count": 24,
   "metadata": {},
   "outputs": [
    {
     "data": {
      "text/plain": [
       "dict_keys(['loss', 'accuracy', 'val_loss', 'val_accuracy'])"
      ]
     },
     "execution_count": 24,
     "metadata": {},
     "output_type": "execute_result"
    }
   ],
   "source": [
    "history_dict=history.history\n",
    "history_dict.keys()"
   ]
  },
  {
   "attachments": {},
   "cell_type": "markdown",
   "metadata": {},
   "source": [
    "There are four entries: one for each monitored metric during training and validation. We can use these to plot the training and validation loss for comparison, as well as the training and validation accuracy."
   ]
  },
  {
   "cell_type": "code",
   "execution_count": 25,
   "metadata": {},
   "outputs": [
    {
     "data": {
      "image/png": "[encoded data removed]",
      "text/plain": [
       "<Figure size 640x480 with 1 Axes>"
      ]
     },
     "metadata": {},
     "output_type": "display_data"
    }
   ],
   "source": [
    "acc=history_dict['accuracy']\n",
    "val_acc=history_dict['val_accuracy']\n",
    "loss=history_dict['loss']\n",
    "val_loss=history_dict['val_loss']\n",
    "\n",
    "epochs=range(1,len(acc)+1)\n",
    "\n",
    "plt.plot(epochs,loss,'bo',label='Training loss')\n",
    "plt.plot(epochs,val_loss,'b',label='Validation loss')\n",
    "plt.title('Training and validation loss')\n",
    "plt.xlabel('Epochs')\n",
    "plt.ylabel('Loss')\n",
    "plt.legend()\n",
    "\n",
    "plt.show()"
   ]
  },
  {
   "cell_type": "code",
   "execution_count": 26,
   "metadata": {},
   "outputs": [
    {
     "data": {
      "image/png": "[encoded data removed]",
      "text/plain": [
       "<Figure size 640x480 with 1 Axes>"
      ]
     },
     "metadata": {},
     "output_type": "display_data"
    }
   ],
   "source": [
    "plt.plot(epochs,acc,'bo',label='Training acc')\n",
    "plt.plot(epochs,val_acc,'b',label='Validation acc')\n",
    "plt.title('Training and validation accuracy')\n",
    "plt.xlabel('Epochs')\n",
    "plt.ylabel('Accuracy')\n",
    "plt.legend(loc='lower right')\n",
    "\n",
    "plt.show()"
   ]
  },
  {
   "attachments": {},
   "cell_type": "markdown",
   "metadata": {},
   "source": [
    "In this plot, the dots represent the training loss and accuracy, and the solid lines are the validation loss and accuracy.\n",
    "</br></br>\n",
    "Notice the training loss decreases with each epoch and the training accuracy increases with each epochs. This is expected when using a gradient descent optimization - it should minimize the desired quantity on every iteration.\n",
    "</br></br>\n",
    "This isnt't the case for the validation loss and accuracy - they seem to peak the training accuracy. This is an example of overfitting: the model performs better on the training data than it does ont data it has never seen before. After this point, the model over-optimizes and learns representation specific to the training data that do no generalize to test data.\n",
    "</br></br>\n",
    "For this particular case, we could prevent overfitting by simply stopping the training with the validation accuracy is no longer increasing. One way to do is to use the `tf.keras.callbacks.EarlyStopping` callback."
   ]
  },
  {
   "attachments": {},
   "cell_type": "markdown",
   "metadata": {},
   "source": [
    "## Export the model\n",
    "In the code above, we applied the `TextVectorization` layer to the dataset before feeding text to the model. If we want to make our model capable of processing raw strings (for example, to simplifty deploying it), we can include the `TextVectorization` layer inside out model. To do so, we can create a new model using the weights we just trained."
   ]
  },
  {
   "cell_type": "code",
   "execution_count": 27,
   "metadata": {},
   "outputs": [
    {
     "name": "stdout",
     "output_type": "stream",
     "text": [
      "250/250 [==============================] - 3s 9ms/step - loss: 0.5588 - accuracy: 0.7980\n",
      "0.7979999780654907\n"
     ]
    }
   ],
   "source": [
    "export_model=tf.keras.Sequential([\n",
    "    vectorize_layer,\n",
    "    model,\n",
    "    layers.Activation('sigmoid')\n",
    "])\n",
    "\n",
    "export_model.compile(\n",
    "    loss=losses.SparseCategoricalCrossentropy(from_logits=False),optimizer='adam',metrics=['accuracy']\n",
    ")\n",
    "\n",
    "loss,accuracy=export_model.evaluate(raw_test_ds)\n",
    "print(accuracy)"
   ]
  },
  {
   "attachments": {},
   "cell_type": "markdown",
   "metadata": {},
   "source": [
    "## Inference of new data\n",
    "To get predictions for new examples, we can simply call `model.predict()`"
   ]
  },
  {
   "cell_type": "code",
   "execution_count": 28,
   "metadata": {},
   "outputs": [
    {
     "name": "stdout",
     "output_type": "stream",
     "text": [
      "1/1 [==============================] - 0s 135ms/step\n"
     ]
    },
    {
     "data": {
      "text/plain": [
       "array([[0.56439084, 0.42297718, 0.51101536, 0.5116522 ],\n",
       "       [0.5212615 , 0.56894505, 0.5258821 , 0.40572682],\n",
       "       [0.5357643 , 0.4615377 , 0.5777653 , 0.43604615]], dtype=float32)"
      ]
     },
     "execution_count": 28,
     "metadata": {},
     "output_type": "execute_result"
    }
   ],
   "source": [
    "example=[\n",
    "    'pandas how to get first column',\n",
    "    'jpanel how to add jbutton',\n",
    "    'getElementById',\n",
    "]\n",
    "export_model.predict(example)"
   ]
  },
  {
   "attachments": {},
   "cell_type": "markdown",
   "metadata": {},
   "source": [
    "Including the text preprocessing login inside model enables usto export a model for production that simplifies deployment, and reduces the potential for **train/test skew**\n",
    "</br></br>\n",
    "There is a performance difference to keep in mind when choosing where to apply our TextVectorization layer. Using it outside of our mode enables our to do asyncchronous CPU processing and buffering on our data when training on GPU. So, if we're trianing our model on GPU, we probably want to go with this option to get the best performance while developing our model, then switch to including the TextVectorization layer inside our model when we're ready to prepare for deployment."
   ]
  }
 ],
 "metadata": {
  "kernelspec": {
   "display_name": "tf",
   "language": "python",
   "name": "python3"
  },
  "language_info": {
   "codemirror_mode": {
    "name": "ipython",
    "version": 3
   },
   "file_extension": ".py",
   "mimetype": "text/x-python",
   "name": "python",
   "nbconvert_exporter": "python",
   "pygments_lexer": "ipython3",
   "version": "3.10.9"
  },
  "orig_nbformat": 4
 },
 "nbformat": 4,
 "nbformat_minor": 2
}
